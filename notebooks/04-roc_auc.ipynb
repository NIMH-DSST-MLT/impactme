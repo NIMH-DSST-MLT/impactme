{
 "cells": [
  {
   "cell_type": "markdown",
   "metadata": {},
   "source": [
    "# Get ROC AUC\n",
    "\n",
    "Generalizing the executable `get_rocauc-nonparallel` into something that can be run on swarm. "
   ]
  },
  {
   "cell_type": "markdown",
   "metadata": {},
   "source": [
    "## Edits\n",
    "\n",
    "- 2024-05-14: Added Llama 3"
   ]
  },
  {
   "cell_type": "markdown",
   "metadata": {},
   "source": [
    "## Create config files"
   ]
  },
  {
   "cell_type": "code",
   "execution_count": null,
   "metadata": {},
   "outputs": [],
   "source": [
    "# models = [\n",
    "#     'bert_base_uncased', \n",
    "#     'llama_7b', \n",
    "#     # 'llama_13b',\n",
    "#     'mental_bert', \n",
    "#     'mental_longformer',\n",
    "# ]\n",
    "\n",
    "models = [\n",
    "    'llama3_8b', \n",
    "    'llama3_8b_instruct', \n",
    "    'llama_13b'\n",
    "]\n",
    "\n",
    "datas = [\n",
    "    'all', \n",
    "    'pt_noshort', \n",
    "    'turns'\n",
    "]\n",
    "\n",
    "# Commented features do not converge due to <3 subjects\n",
    "features = [\n",
    "    'a1', 'a2', 'a3', 'a4', 'a5', 'a6', 'a7', # 'a8', \n",
    "    'b1', 'b2', 'b3', \n",
    "    'c1', 'c2', 'c3', 'c4', \n",
    "    'd1', 'd2', 'd3', 'd4', 'd5', 'd6', \n",
    "    'e1', 'e2', 'e3', # 'e4', # 'e5', \n",
    "    'f1', 'f2', 'f3',\n",
    "    'g1', 'g2', \n",
    "    'a', 'b', 'c', 'd', 'e', 'f', 'g', \n",
    "    'any'\n",
    "]\n",
    "\n",
    "k_fold = 4\n",
    "C_list = [\n",
    "    0.0001, 0.0005, \n",
    "    0.001, 0.005, \n",
    "    0.01, 0.05, \n",
    "    0.1, 0.5, \n",
    "    1., 5., \n",
    "    10., 50., \n",
    "    100., 500., \n",
    "    1000., 5000.\n",
    "]\n",
    "\n",
    "trn_types = ['baseline', 'perm_trn']\n",
    "\n",
    "read_dir = '/data/MLDSST/xinaw/impactme/results/raw'\n",
    "write_dir = '/data/MLDSST/xinaw/impactme/results/roc_auc'"
   ]
  },
  {
   "cell_type": "code",
   "execution_count": null,
   "metadata": {},
   "outputs": [],
   "source": [
    "from pathlib import Path\n",
    "import json\n",
    "import itertools\n",
    "\n",
    "config_dir = Path('/data/MLDSST/xinaw/impactme/config/roc_auc')\n",
    "Path(config_dir).mkdir(exist_ok=True)\n",
    "config_paths = []\n",
    "\n",
    "params = list(itertools.product(datas, features, models, trn_types))                \n",
    "\n",
    "for data, feature, model, trn_type in params:\n",
    "    cfg_dat = dict(\n",
    "        data=data,\n",
    "        feature=feature,\n",
    "        k_fold=k_fold,\n",
    "        model=model,\n",
    "        C_list=C_list,\n",
    "        read_dir=read_dir,\n",
    "        write_dir=write_dir, \n",
    "        trn_type=trn_type\n",
    "    )\n",
    "    cfg_path = config_dir / f'{trn_type}-{model}-{data}-{feature}'\n",
    "    cfg_path.write_text(json.dumps(cfg_dat, indent=2))"
   ]
  },
  {
   "cell_type": "markdown",
   "metadata": {},
   "source": [
    "## Check for existing files"
   ]
  },
  {
   "cell_type": "code",
   "execution_count": null,
   "metadata": {},
   "outputs": [],
   "source": [
    "import os\n",
    "import numpy as np\n",
    "import itertools\n",
    "\n",
    "pkl_exists = []\n",
    "res_f = []\n",
    "\n",
    "params = list(itertools.product(datas, features, models, trn_types))                \n",
    "need_rocauc = set([f'{trn_type}-{model}-{data}-{feature}' for data, feature, model, trn_type in params])\n",
    "\n",
    "for trn_type in trn_types:\n",
    "    temp = [i.replace('.pkl', '') for i in os.listdir(f'results/raw/{trn_type}')]\n",
    "    pkl_exists += [trn_type + '-' + i for i in temp]\n",
    "\n",
    "    temp = [i.replace('.csv', '') for i in os.listdir(f'results/roc_auc/{trn_type}')]\n",
    "    res_f += [trn_type + '-' + i for i in temp]\n",
    "\n",
    "need_rocauc = need_rocauc.intersection(pkl_exists) - set(res_f)\n",
    "need_rocauc = list(need_rocauc)\n",
    "print(f'ROC AUC calculations to be run: {len(need_rocauc)}')"
   ]
  },
  {
   "cell_type": "markdown",
   "metadata": {},
   "source": [
    "### Test a single instance (optional)\n",
    "\n",
    "We can run the first config file to do a quick pass on viability. "
   ]
  },
  {
   "cell_type": "code",
   "execution_count": null,
   "metadata": {},
   "outputs": [],
   "source": [
    "need_rocauc[0]"
   ]
  },
  {
   "cell_type": "code",
   "execution_count": null,
   "metadata": {},
   "outputs": [],
   "source": [
    "config_path = '/data/MLDSST/xinaw/impactme/config/roc_auc'\n",
    "# Run to test\n",
    "! python /data/MLDSST/xinaw/impactme/roc_auc.py {config_path}/{need_rocauc[0]}"
   ]
  },
  {
   "cell_type": "markdown",
   "metadata": {},
   "source": [
    "## Write to swarm"
   ]
  },
  {
   "cell_type": "code",
   "execution_count": null,
   "metadata": {},
   "outputs": [],
   "source": [
    "config_path = '/data/MLDSST/xinaw/impactme/config/roc_auc'\n",
    "\n",
    "# Write the config paths to swarm\n",
    "with open('swarm/roc_auc.swarm', 'w') as f:\n",
    "    for i in need_rocauc:\n",
    "        f.write(f'python /data/MLDSST/xinaw/impactme/roc_auc.py {config_path}/{i}\\n')"
   ]
  },
  {
   "cell_type": "markdown",
   "metadata": {},
   "source": [
    "## Run swarm\n",
    "\n",
    "Because each calculation is very short, a large batch is fine. \n",
    "\n",
    "This should be a `swarm` command. It is fine to start with a low wall-time and capturing the timeouts later. For example, the first command may be\n",
    "\n",
    "```\n",
    "SBATCH_PARTITION=quick swarm --verbose 2 -g 2 -t 2 -b 32 --time=1 /data/MLDSST/xinaw/impactme/swarm/rocauc.swarm\n",
    "```"
   ]
  },
  {
   "cell_type": "markdown",
   "metadata": {},
   "source": [
    "### Check for missing files\n",
    "\n",
    "For this step, things are only really likely to fail due to some strange exit rules in the batched processes. "
   ]
  },
  {
   "cell_type": "code",
   "execution_count": null,
   "metadata": {},
   "outputs": [],
   "source": [
    "import os\n",
    "import numpy as np\n",
    "import itertools\n",
    "\n",
    "pkl_exists = []\n",
    "res_f = []\n",
    "\n",
    "params = list(itertools.product(datas, features, models, trn_types))                \n",
    "need_rocauc = set([f'{trn_type}-{model}-{data}-{feature}' for data, feature, model, trn_type in params])\n",
    "\n",
    "for trn_type in trn_types:\n",
    "    temp = [i.replace('.pkl', '') for i in os.listdir(f'results/raw/{trn_type}')]\n",
    "    pkl_exists += [trn_type + '-' + i for i in temp]\n",
    "\n",
    "    temp = [i.replace('.csv', '') for i in os.listdir(f'results/roc_auc/{trn_type}')]\n",
    "    res_f += [trn_type + '-' + i for i in temp]\n",
    "\n",
    "need_rocauc = need_rocauc.intersection(pkl_exists) - set(res_f)\n",
    "need_rocauc = list(need_rocauc)\n",
    "print(f'ROC AUC calculations to be run: {len(need_rocauc)}')"
   ]
  },
  {
   "cell_type": "code",
   "execution_count": null,
   "metadata": {},
   "outputs": [],
   "source": [
    "config_path = '/data/MLDSST/xinaw/impactme/config/roc_auc'\n",
    "\n",
    "# Write the config paths to swarm\n",
    "with open('swarm/roc_auc.swarm', 'w') as f:\n",
    "    for i in need_rocauc:\n",
    "        f.write(f'python /data/MLDSST/xinaw/impactme/roc_auc.py {config_path}/{i}\\n')"
   ]
  },
  {
   "cell_type": "markdown",
   "metadata": {},
   "source": [
    "An example swarm call is below:\n",
    "\n",
    "```\n",
    "SBATCH_PARTITION=quick swarm --verbose 2 -g 1 -t 1 -b 18 --time=1 /data/MLDSST/xinaw/impactme/swarm/roc_auc.swarm\n",
    "```"
   ]
  }
 ],
 "metadata": {
  "kernelspec": {
   "display_name": "impactme",
   "language": "python",
   "name": "python3"
  },
  "language_info": {
   "codemirror_mode": {
    "name": "ipython",
    "version": 3
   },
   "file_extension": ".py",
   "mimetype": "text/x-python",
   "name": "python",
   "nbconvert_exporter": "python",
   "pygments_lexer": "ipython3",
   "version": "3.11.7"
  }
 },
 "nbformat": 4,
 "nbformat_minor": 2
}
